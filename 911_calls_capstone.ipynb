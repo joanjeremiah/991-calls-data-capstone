{
  "nbformat": 4,
  "nbformat_minor": 0,
  "metadata": {
    "colab": {
      "name": "911-calls-capstone.ipynb",
      "provenance": [],
      "collapsed_sections": [],
      "authorship_tag": "ABX9TyMXwFQM6pN9U82CaXtk0BGm",
      "include_colab_link": true
    },
    "kernelspec": {
      "name": "python3",
      "display_name": "Python 3"
    },
    "language_info": {
      "name": "python"
    }
  },
  "cells": [
    {
      "cell_type": "markdown",
      "metadata": {
        "id": "view-in-github",
        "colab_type": "text"
      },
      "source": [
        "<a href=\"https://colab.research.google.com/github/joanjeremiah/991-calls-data-capstone/blob/main/911_calls_capstone.ipynb\" target=\"_parent\"><img src=\"https://colab.research.google.com/assets/colab-badge.svg\" alt=\"Open In Colab\"/></a>"
      ]
    },
    {
      "cell_type": "code",
      "metadata": {
        "id": "-tsZhPTmACdG"
      },
      "source": [
        "import pandas as pd"
      ],
      "execution_count": null,
      "outputs": []
    },
    {
      "cell_type": "code",
      "metadata": {
        "id": "stUFhyjrCuDU"
      },
      "source": [
        "import numpy as np"
      ],
      "execution_count": null,
      "outputs": []
    },
    {
      "cell_type": "code",
      "metadata": {
        "id": "g_5iN9X-Cxk-"
      },
      "source": [
        "import matplotlib.pyplot as plt\n",
        "import seaborn as sns\n",
        "%matplotlib inline"
      ],
      "execution_count": null,
      "outputs": []
    },
    {
      "cell_type": "code",
      "metadata": {
        "id": "lN-OUeQIDVFV"
      },
      "source": [
        "df = pd.read_csv('/content/sample_data/911.csv')"
      ],
      "execution_count": null,
      "outputs": []
    },
    {
      "cell_type": "markdown",
      "metadata": {
        "id": "DUanTCmIIm6Q"
      },
      "source": [
        "**info() for df**"
      ]
    },
    {
      "cell_type": "code",
      "metadata": {
        "colab": {
          "base_uri": "https://localhost:8080/"
        },
        "id": "4kB75x5TFlfJ",
        "outputId": "9c813d20-3fcc-4f02-ad47-ddf1af0be3cd"
      },
      "source": [
        "df.info()"
      ],
      "execution_count": null,
      "outputs": [
        {
          "output_type": "stream",
          "name": "stdout",
          "text": [
            "<class 'pandas.core.frame.DataFrame'>\n",
            "RangeIndex: 289240 entries, 0 to 289239\n",
            "Data columns (total 9 columns):\n",
            " #   Column     Non-Null Count   Dtype  \n",
            "---  ------     --------------   -----  \n",
            " 0   lat        289240 non-null  float64\n",
            " 1   lng        289240 non-null  float64\n",
            " 2   desc       289240 non-null  object \n",
            " 3   zip        253942 non-null  float64\n",
            " 4   title      289240 non-null  object \n",
            " 5   timeStamp  289240 non-null  object \n",
            " 6   twp        289137 non-null  object \n",
            " 7   addr       289240 non-null  object \n",
            " 8   e          289240 non-null  int64  \n",
            "dtypes: float64(3), int64(1), object(5)\n",
            "memory usage: 19.9+ MB\n"
          ]
        }
      ]
    },
    {
      "cell_type": "markdown",
      "metadata": {
        "id": "eoWEkcrcI0bj"
      },
      "source": [
        "**head() for df**"
      ]
    },
    {
      "cell_type": "code",
      "metadata": {
        "colab": {
          "base_uri": "https://localhost:8080/",
          "height": 374
        },
        "id": "31G4dXCwHzAi",
        "outputId": "0319de4a-7b6d-43ae-eff0-e9acec7481fa"
      },
      "source": [
        "df.head()"
      ],
      "execution_count": null,
      "outputs": [
        {
          "output_type": "execute_result",
          "data": {
            "text/html": [
              "<div>\n",
              "<style scoped>\n",
              "    .dataframe tbody tr th:only-of-type {\n",
              "        vertical-align: middle;\n",
              "    }\n",
              "\n",
              "    .dataframe tbody tr th {\n",
              "        vertical-align: top;\n",
              "    }\n",
              "\n",
              "    .dataframe thead th {\n",
              "        text-align: right;\n",
              "    }\n",
              "</style>\n",
              "<table border=\"1\" class=\"dataframe\">\n",
              "  <thead>\n",
              "    <tr style=\"text-align: right;\">\n",
              "      <th></th>\n",
              "      <th>lat</th>\n",
              "      <th>lng</th>\n",
              "      <th>desc</th>\n",
              "      <th>zip</th>\n",
              "      <th>title</th>\n",
              "      <th>timeStamp</th>\n",
              "      <th>twp</th>\n",
              "      <th>addr</th>\n",
              "      <th>e</th>\n",
              "    </tr>\n",
              "  </thead>\n",
              "  <tbody>\n",
              "    <tr>\n",
              "      <th>0</th>\n",
              "      <td>40.297876</td>\n",
              "      <td>-75.581294</td>\n",
              "      <td>REINDEER CT &amp; DEAD END;  NEW HANOVER; Station ...</td>\n",
              "      <td>19525.0</td>\n",
              "      <td>EMS: BACK PAINS/INJURY</td>\n",
              "      <td>2015-12-10 17:10:52</td>\n",
              "      <td>NEW HANOVER</td>\n",
              "      <td>REINDEER CT &amp; DEAD END</td>\n",
              "      <td>1</td>\n",
              "    </tr>\n",
              "    <tr>\n",
              "      <th>1</th>\n",
              "      <td>40.258061</td>\n",
              "      <td>-75.264680</td>\n",
              "      <td>BRIAR PATH &amp; WHITEMARSH LN;  HATFIELD TOWNSHIP...</td>\n",
              "      <td>19446.0</td>\n",
              "      <td>EMS: DIABETIC EMERGENCY</td>\n",
              "      <td>2015-12-10 17:29:21</td>\n",
              "      <td>HATFIELD TOWNSHIP</td>\n",
              "      <td>BRIAR PATH &amp; WHITEMARSH LN</td>\n",
              "      <td>1</td>\n",
              "    </tr>\n",
              "    <tr>\n",
              "      <th>2</th>\n",
              "      <td>40.121182</td>\n",
              "      <td>-75.351975</td>\n",
              "      <td>HAWS AVE; NORRISTOWN; 2015-12-10 @ 14:39:21-St...</td>\n",
              "      <td>19401.0</td>\n",
              "      <td>Fire: GAS-ODOR/LEAK</td>\n",
              "      <td>2015-12-10 14:39:21</td>\n",
              "      <td>NORRISTOWN</td>\n",
              "      <td>HAWS AVE</td>\n",
              "      <td>1</td>\n",
              "    </tr>\n",
              "    <tr>\n",
              "      <th>3</th>\n",
              "      <td>40.116153</td>\n",
              "      <td>-75.343513</td>\n",
              "      <td>AIRY ST &amp; SWEDE ST;  NORRISTOWN; Station 308A;...</td>\n",
              "      <td>19401.0</td>\n",
              "      <td>EMS: CARDIAC EMERGENCY</td>\n",
              "      <td>2015-12-10 16:47:36</td>\n",
              "      <td>NORRISTOWN</td>\n",
              "      <td>AIRY ST &amp; SWEDE ST</td>\n",
              "      <td>1</td>\n",
              "    </tr>\n",
              "    <tr>\n",
              "      <th>4</th>\n",
              "      <td>40.251492</td>\n",
              "      <td>-75.603350</td>\n",
              "      <td>CHERRYWOOD CT &amp; DEAD END;  LOWER POTTSGROVE; S...</td>\n",
              "      <td>NaN</td>\n",
              "      <td>EMS: DIZZINESS</td>\n",
              "      <td>2015-12-10 16:56:52</td>\n",
              "      <td>LOWER POTTSGROVE</td>\n",
              "      <td>CHERRYWOOD CT &amp; DEAD END</td>\n",
              "      <td>1</td>\n",
              "    </tr>\n",
              "  </tbody>\n",
              "</table>\n",
              "</div>"
            ],
            "text/plain": [
              "         lat        lng  ...                        addr  e\n",
              "0  40.297876 -75.581294  ...      REINDEER CT & DEAD END  1\n",
              "1  40.258061 -75.264680  ...  BRIAR PATH & WHITEMARSH LN  1\n",
              "2  40.121182 -75.351975  ...                    HAWS AVE  1\n",
              "3  40.116153 -75.343513  ...          AIRY ST & SWEDE ST  1\n",
              "4  40.251492 -75.603350  ...    CHERRYWOOD CT & DEAD END  1\n",
              "\n",
              "[5 rows x 9 columns]"
            ]
          },
          "metadata": {},
          "execution_count": 15
        }
      ]
    },
    {
      "cell_type": "markdown",
      "metadata": {
        "id": "TAxvItXbIThQ"
      },
      "source": [
        "**Top 5 zipcodes for 911 calls**"
      ]
    },
    {
      "cell_type": "code",
      "metadata": {
        "colab": {
          "base_uri": "https://localhost:8080/"
        },
        "id": "3RSe1C32H2PT",
        "outputId": "a9606fcc-2929-4f6d-aa92-2ac3d0c705fb"
      },
      "source": [
        "df['zip'].value_counts().head(5)"
      ],
      "execution_count": null,
      "outputs": [
        {
          "output_type": "execute_result",
          "data": {
            "text/plain": [
              "19401.0    19821\n",
              "19464.0    19276\n",
              "19403.0    14524\n",
              "19446.0    13939\n",
              "19406.0     9601\n",
              "Name: zip, dtype: int64"
            ]
          },
          "metadata": {},
          "execution_count": 18
        }
      ]
    },
    {
      "cell_type": "markdown",
      "metadata": {
        "id": "gwQjDwcbI8XP"
      },
      "source": [
        "**Top 5 townships for 911 calls**"
      ]
    },
    {
      "cell_type": "code",
      "metadata": {
        "colab": {
          "base_uri": "https://localhost:8080/"
        },
        "id": "6MeBt8g4H6Pq",
        "outputId": "3f4f6c05-a1b9-4845-d314-72680002f62c"
      },
      "source": [
        "df['twp'].value_counts().head(5)"
      ],
      "execution_count": null,
      "outputs": [
        {
          "output_type": "execute_result",
          "data": {
            "text/plain": [
              "LOWER MERION    24826\n",
              "ABINGTON        17820\n",
              "NORRISTOWN      16546\n",
              "UPPER MERION    15288\n",
              "CHELTENHAM      13359\n",
              "Name: twp, dtype: int64"
            ]
          },
          "metadata": {},
          "execution_count": 19
        }
      ]
    },
    {
      "cell_type": "markdown",
      "metadata": {
        "id": "ZXtNwbcaJO69"
      },
      "source": [
        "**No of unique title codes in the df**"
      ]
    },
    {
      "cell_type": "code",
      "metadata": {
        "colab": {
          "base_uri": "https://localhost:8080/"
        },
        "id": "XrOK3OR7JLXH",
        "outputId": "eb38e26d-f156-4b9a-c737-a26648924f02"
      },
      "source": [
        "df['title'].nunique()"
      ],
      "execution_count": null,
      "outputs": [
        {
          "output_type": "execute_result",
          "data": {
            "text/plain": [
              "131"
            ]
          },
          "metadata": {},
          "execution_count": 20
        }
      ]
    },
    {
      "cell_type": "markdown",
      "metadata": {
        "id": "wr_K4dUWJcyd"
      },
      "source": [
        "**Creating a new column 'Reason' for storing Reasons/Departments in title.For example,if the title column value is: 'EMS: BACK PAINS/INJURY',the Reason column value would be 'EMS'**"
      ]
    },
    {
      "cell_type": "code",
      "metadata": {
        "id": "SiqOWe6UJbot"
      },
      "source": [
        "df['Reason'] = df['title'].apply(lambda title:title.split(':')[0])"
      ],
      "execution_count": null,
      "outputs": []
    },
    {
      "cell_type": "code",
      "metadata": {
        "colab": {
          "base_uri": "https://localhost:8080/"
        },
        "id": "2BjTjh0OKpEQ",
        "outputId": "a5fb01a7-c4d8-49c7-a836-73446280e781"
      },
      "source": [
        "df['Reason']"
      ],
      "execution_count": null,
      "outputs": [
        {
          "output_type": "execute_result",
          "data": {
            "text/plain": [
              "0             EMS\n",
              "1             EMS\n",
              "2            Fire\n",
              "3             EMS\n",
              "4             EMS\n",
              "           ...   \n",
              "289235        EMS\n",
              "289236       Fire\n",
              "289237    Traffic\n",
              "289238    Traffic\n",
              "289239    Traffic\n",
              "Name: Reason, Length: 289240, dtype: object"
            ]
          },
          "metadata": {},
          "execution_count": 22
        }
      ]
    },
    {
      "cell_type": "markdown",
      "metadata": {
        "id": "25F-Pu-PKyxs"
      },
      "source": [
        "**Most common reason for 911 calls**"
      ]
    },
    {
      "cell_type": "code",
      "metadata": {
        "colab": {
          "base_uri": "https://localhost:8080/"
        },
        "id": "t7u5vj8WKrD3",
        "outputId": "7e326d50-a1c2-4fa5-a4a6-3438fdf6367f"
      },
      "source": [
        "df['Reason'].value_counts().head(1)"
      ],
      "execution_count": null,
      "outputs": [
        {
          "output_type": "execute_result",
          "data": {
            "text/plain": [
              "EMS    144362\n",
              "Name: Reason, dtype: int64"
            ]
          },
          "metadata": {},
          "execution_count": 26
        }
      ]
    },
    {
      "cell_type": "code",
      "metadata": {
        "id": "hEyE4q-4LBt2"
      },
      "source": [
        ""
      ],
      "execution_count": null,
      "outputs": []
    },
    {
      "cell_type": "markdown",
      "metadata": {
        "id": "6Y0My0KXMB-d"
      },
      "source": [
        "**Plotting countplot of 911 calls by Reason using seaborn.**"
      ]
    },
    {
      "cell_type": "code",
      "metadata": {
        "colab": {
          "base_uri": "https://localhost:8080/",
          "height": 296
        },
        "id": "fSSctoapMOF9",
        "outputId": "9c4f8df7-3004-4cd7-d353-36c156016cde"
      },
      "source": [
        "sns.countplot(x = 'Reason',data=df)"
      ],
      "execution_count": null,
      "outputs": [
        {
          "output_type": "execute_result",
          "data": {
            "text/plain": [
              "<matplotlib.axes._subplots.AxesSubplot at 0x7f6fe600dc10>"
            ]
          },
          "metadata": {},
          "execution_count": 27
        },
        {
          "output_type": "display_data",
          "data": {
            "image/png": "[encoded data removed]",
            "text/plain": [
              "<Figure size 432x288 with 1 Axes>"
            ]
          },
          "metadata": {
            "needs_background": "light"
          }
        }
      ]
    },
    {
      "cell_type": "code",
      "metadata": {
        "id": "-ig9CyOjMc6Z"
      },
      "source": [
        ""
      ],
      "execution_count": null,
      "outputs": []
    },
    {
      "cell_type": "markdown",
      "metadata": {
        "id": "qliGyR6nMisR"
      },
      "source": [
        "**Datatype of objects in timeStamp column**"
      ]
    },
    {
      "cell_type": "code",
      "metadata": {
        "colab": {
          "base_uri": "https://localhost:8080/"
        },
        "id": "KMRJmMKlMrvq",
        "outputId": "4056b64c-34bb-4603-8eaf-7768d7ced408"
      },
      "source": [
        "type(df['timeStamp'].iloc[0])"
      ],
      "execution_count": null,
      "outputs": [
        {
          "output_type": "execute_result",
          "data": {
            "text/plain": [
              "str"
            ]
          },
          "metadata": {},
          "execution_count": 28
        }
      ]
    },
    {
      "cell_type": "code",
      "metadata": {
        "id": "LCKPUDHxMweI"
      },
      "source": [
        ""
      ],
      "execution_count": null,
      "outputs": []
    },
    {
      "cell_type": "markdown",
      "metadata": {
        "id": "ZjDldAToM_Sn"
      },
      "source": [
        "**Converting the timeStamp column from string to DateTime objects**"
      ]
    },
    {
      "cell_type": "code",
      "metadata": {
        "id": "69gYdJjUNWcH"
      },
      "source": [
        "df['timeStamp'] = pd.to_datetime(df['timeStamp'])"
      ],
      "execution_count": null,
      "outputs": []
    },
    {
      "cell_type": "code",
      "metadata": {
        "colab": {
          "base_uri": "https://localhost:8080/"
        },
        "id": "_YJ1NL9JNilr",
        "outputId": "0143c782-049b-4f19-abb3-108ee65cb1d0"
      },
      "source": [
        "df['timeStamp']"
      ],
      "execution_count": null,
      "outputs": [
        {
          "output_type": "execute_result",
          "data": {
            "text/plain": [
              "0        2015-12-10 17:10:52\n",
              "1        2015-12-10 17:29:21\n",
              "2        2015-12-10 14:39:21\n",
              "3        2015-12-10 16:47:36\n",
              "4        2015-12-10 16:56:52\n",
              "                 ...        \n",
              "289235   2017-12-30 11:11:36\n",
              "289236   2017-12-30 11:11:30\n",
              "289237   2017-12-30 11:15:24\n",
              "289238   2017-12-30 11:12:03\n",
              "289239   2017-12-30 11:14:31\n",
              "Name: timeStamp, Length: 289240, dtype: datetime64[ns]"
            ]
          },
          "metadata": {},
          "execution_count": 34
        }
      ]
    },
    {
      "cell_type": "code",
      "metadata": {
        "id": "KC6YLQfONuLc"
      },
      "source": [
        ""
      ],
      "execution_count": null,
      "outputs": []
    },
    {
      "cell_type": "markdown",
      "metadata": {
        "id": "i40zEqQvN3eX"
      },
      "source": [
        "**Creating 3 new columns Hour, Month, Day form DateTime object in timeStamp column**"
      ]
    },
    {
      "cell_type": "code",
      "metadata": {
        "id": "Iw6WbQ7SOFa4"
      },
      "source": [
        "df['Hour'] = df['timeStamp'].apply(lambda date:date.hour)\n",
        "df['Month'] = df['timeStamp'].apply(lambda date:date.month)\n",
        "df['Day'] = df['timeStamp'].apply(lambda date:date.dayofweek)"
      ],
      "execution_count": null,
      "outputs": []
    },
    {
      "cell_type": "code",
      "metadata": {
        "colab": {
          "base_uri": "https://localhost:8080/",
          "height": 332
        },
        "id": "gHSx7i50Oi6H",
        "outputId": "71f81477-5dfd-42a1-a969-c0642a5930d6"
      },
      "source": [
        "df.head(3)"
      ],
      "execution_count": null,
      "outputs": [
        {
          "output_type": "execute_result",
          "data": {
            "text/html": [
              "<div>\n",
              "<style scoped>\n",
              "    .dataframe tbody tr th:only-of-type {\n",
              "        vertical-align: middle;\n",
              "    }\n",
              "\n",
              "    .dataframe tbody tr th {\n",
              "        vertical-align: top;\n",
              "    }\n",
              "\n",
              "    .dataframe thead th {\n",
              "        text-align: right;\n",
              "    }\n",
              "</style>\n",
              "<table border=\"1\" class=\"dataframe\">\n",
              "  <thead>\n",
              "    <tr style=\"text-align: right;\">\n",
              "      <th></th>\n",
              "      <th>lat</th>\n",
              "      <th>lng</th>\n",
              "      <th>desc</th>\n",
              "      <th>zip</th>\n",
              "      <th>title</th>\n",
              "      <th>timeStamp</th>\n",
              "      <th>twp</th>\n",
              "      <th>addr</th>\n",
              "      <th>e</th>\n",
              "      <th>Reason</th>\n",
              "      <th>Hour</th>\n",
              "      <th>Month</th>\n",
              "      <th>Day</th>\n",
              "    </tr>\n",
              "  </thead>\n",
              "  <tbody>\n",
              "    <tr>\n",
              "      <th>0</th>\n",
              "      <td>40.297876</td>\n",
              "      <td>-75.581294</td>\n",
              "      <td>REINDEER CT &amp; DEAD END;  NEW HANOVER; Station ...</td>\n",
              "      <td>19525.0</td>\n",
              "      <td>EMS: BACK PAINS/INJURY</td>\n",
              "      <td>2015-12-10 17:10:52</td>\n",
              "      <td>NEW HANOVER</td>\n",
              "      <td>REINDEER CT &amp; DEAD END</td>\n",
              "      <td>1</td>\n",
              "      <td>EMS</td>\n",
              "      <td>17</td>\n",
              "      <td>12</td>\n",
              "      <td>NaN</td>\n",
              "    </tr>\n",
              "    <tr>\n",
              "      <th>1</th>\n",
              "      <td>40.258061</td>\n",
              "      <td>-75.264680</td>\n",
              "      <td>BRIAR PATH &amp; WHITEMARSH LN;  HATFIELD TOWNSHIP...</td>\n",
              "      <td>19446.0</td>\n",
              "      <td>EMS: DIABETIC EMERGENCY</td>\n",
              "      <td>2015-12-10 17:29:21</td>\n",
              "      <td>HATFIELD TOWNSHIP</td>\n",
              "      <td>BRIAR PATH &amp; WHITEMARSH LN</td>\n",
              "      <td>1</td>\n",
              "      <td>EMS</td>\n",
              "      <td>17</td>\n",
              "      <td>12</td>\n",
              "      <td>NaN</td>\n",
              "    </tr>\n",
              "    <tr>\n",
              "      <th>2</th>\n",
              "      <td>40.121182</td>\n",
              "      <td>-75.351975</td>\n",
              "      <td>HAWS AVE; NORRISTOWN; 2015-12-10 @ 14:39:21-St...</td>\n",
              "      <td>19401.0</td>\n",
              "      <td>Fire: GAS-ODOR/LEAK</td>\n",
              "      <td>2015-12-10 14:39:21</td>\n",
              "      <td>NORRISTOWN</td>\n",
              "      <td>HAWS AVE</td>\n",
              "      <td>1</td>\n",
              "      <td>Fire</td>\n",
              "      <td>14</td>\n",
              "      <td>12</td>\n",
              "      <td>NaN</td>\n",
              "    </tr>\n",
              "  </tbody>\n",
              "</table>\n",
              "</div>"
            ],
            "text/plain": [
              "         lat        lng  ... Month  Day\n",
              "0  40.297876 -75.581294  ...    12  NaN\n",
              "1  40.258061 -75.264680  ...    12  NaN\n",
              "2  40.121182 -75.351975  ...    12  NaN\n",
              "\n",
              "[3 rows x 13 columns]"
            ]
          },
          "metadata": {},
          "execution_count": 68
        }
      ]
    },
    {
      "cell_type": "markdown",
      "metadata": {
        "id": "UD4GGk-aQzHn"
      },
      "source": [
        "**Converting column day from integer to a string of corresponding day**"
      ]
    },
    {
      "cell_type": "code",
      "metadata": {
        "id": "vrGqaOTSQl5X"
      },
      "source": [
        "dmap = {0: 'Mon',1: 'Tue',2: 'Wed',3: 'Thu',4: 'Fri',5: 'Sat',6: 'Sun'}"
      ],
      "execution_count": null,
      "outputs": []
    },
    {
      "cell_type": "code",
      "metadata": {
        "id": "bvYf4euLQyBH"
      },
      "source": [
        "df['Day'] = df['Day'].map(dmap)"
      ],
      "execution_count": null,
      "outputs": []
    },
    {
      "cell_type": "code",
      "metadata": {
        "colab": {
          "base_uri": "https://localhost:8080/"
        },
        "id": "dwuG3qI3RN5N",
        "outputId": "78f5e49d-12be-4c41-e787-4a5170bade15"
      },
      "source": [
        "df['Day']"
      ],
      "execution_count": null,
      "outputs": [
        {
          "output_type": "execute_result",
          "data": {
            "text/plain": [
              "0         Thu\n",
              "1         Thu\n",
              "2         Thu\n",
              "3         Thu\n",
              "4         Thu\n",
              "         ... \n",
              "289235    Sat\n",
              "289236    Sat\n",
              "289237    Sat\n",
              "289238    Sat\n",
              "289239    Sat\n",
              "Name: Day, Length: 289240, dtype: object"
            ]
          },
          "metadata": {},
          "execution_count": 72
        }
      ]
    },
    {
      "cell_type": "markdown",
      "metadata": {
        "id": "lTF31VXNTG_X"
      },
      "source": [
        "**Creating countplot of Day column with the hue based off of Reason column**"
      ]
    },
    {
      "cell_type": "code",
      "metadata": {
        "colab": {
          "base_uri": "https://localhost:8080/",
          "height": 296
        },
        "id": "N-_EV0tDSJbg",
        "outputId": "ed4b5763-3cc4-408c-a9fc-1cd6365c5e1b"
      },
      "source": [
        "sns.countplot(x=\"Day\",hue=\"Reason\",data=df)\n",
        "# Relocating the legend\n",
        "plt.legend(bbox_to_anchor=(1.05,1))"
      ],
      "execution_count": null,
      "outputs": [
        {
          "output_type": "execute_result",
          "data": {
            "text/plain": [
              "<matplotlib.legend.Legend at 0x7f6fdfcf0dd0>"
            ]
          },
          "metadata": {},
          "execution_count": 79
        },
        {
          "output_type": "display_data",
          "data": {
            "image/png": "[encoded data removed]",
            "text/plain": [
              "<Figure size 432x288 with 1 Axes>"
            ]
          },
          "metadata": {
            "needs_background": "light"
          }
        }
      ]
    },
    {
      "cell_type": "markdown",
      "metadata": {
        "id": "pMSrCJDuaGQm"
      },
      "source": [
        "*Some months are missing in the above plot.Trying to solve this..*"
      ]
    },
    {
      "cell_type": "code",
      "metadata": {
        "id": "pEBOtqQvTaHk"
      },
      "source": [
        "byMonth = df.groupby('Month').count()"
      ],
      "execution_count": null,
      "outputs": []
    },
    {
      "cell_type": "code",
      "metadata": {
        "colab": {
          "base_uri": "https://localhost:8080/",
          "height": 452
        },
        "id": "5LDGBd2vZ6uP",
        "outputId": "d68465c0-0187-42b7-e462-dda9f303ddae"
      },
      "source": [
        "byMonth"
      ],
      "execution_count": null,
      "outputs": [
        {
          "output_type": "execute_result",
          "data": {
            "text/html": [
              "<div>\n",
              "<style scoped>\n",
              "    .dataframe tbody tr th:only-of-type {\n",
              "        vertical-align: middle;\n",
              "    }\n",
              "\n",
              "    .dataframe tbody tr th {\n",
              "        vertical-align: top;\n",
              "    }\n",
              "\n",
              "    .dataframe thead th {\n",
              "        text-align: right;\n",
              "    }\n",
              "</style>\n",
              "<table border=\"1\" class=\"dataframe\">\n",
              "  <thead>\n",
              "    <tr style=\"text-align: right;\">\n",
              "      <th></th>\n",
              "      <th>lat</th>\n",
              "      <th>lng</th>\n",
              "      <th>desc</th>\n",
              "      <th>zip</th>\n",
              "      <th>title</th>\n",
              "      <th>timeStamp</th>\n",
              "      <th>twp</th>\n",
              "      <th>addr</th>\n",
              "      <th>e</th>\n",
              "      <th>Reason</th>\n",
              "      <th>Hour</th>\n",
              "      <th>Day</th>\n",
              "    </tr>\n",
              "    <tr>\n",
              "      <th>Month</th>\n",
              "      <th></th>\n",
              "      <th></th>\n",
              "      <th></th>\n",
              "      <th></th>\n",
              "      <th></th>\n",
              "      <th></th>\n",
              "      <th></th>\n",
              "      <th></th>\n",
              "      <th></th>\n",
              "      <th></th>\n",
              "      <th></th>\n",
              "      <th></th>\n",
              "    </tr>\n",
              "  </thead>\n",
              "  <tbody>\n",
              "    <tr>\n",
              "      <th>1</th>\n",
              "      <td>24701</td>\n",
              "      <td>24701</td>\n",
              "      <td>24701</td>\n",
              "      <td>21877</td>\n",
              "      <td>24701</td>\n",
              "      <td>24701</td>\n",
              "      <td>24692</td>\n",
              "      <td>24701</td>\n",
              "      <td>24701</td>\n",
              "      <td>24701</td>\n",
              "      <td>24701</td>\n",
              "      <td>24701</td>\n",
              "    </tr>\n",
              "    <tr>\n",
              "      <th>2</th>\n",
              "      <td>21663</td>\n",
              "      <td>21663</td>\n",
              "      <td>21663</td>\n",
              "      <td>19161</td>\n",
              "      <td>21663</td>\n",
              "      <td>21663</td>\n",
              "      <td>21658</td>\n",
              "      <td>21663</td>\n",
              "      <td>21663</td>\n",
              "      <td>21663</td>\n",
              "      <td>21663</td>\n",
              "      <td>21663</td>\n",
              "    </tr>\n",
              "    <tr>\n",
              "      <th>3</th>\n",
              "      <td>22743</td>\n",
              "      <td>22743</td>\n",
              "      <td>22743</td>\n",
              "      <td>20160</td>\n",
              "      <td>22743</td>\n",
              "      <td>22743</td>\n",
              "      <td>22732</td>\n",
              "      <td>22743</td>\n",
              "      <td>22743</td>\n",
              "      <td>22743</td>\n",
              "      <td>22743</td>\n",
              "      <td>22743</td>\n",
              "    </tr>\n",
              "    <tr>\n",
              "      <th>4</th>\n",
              "      <td>22343</td>\n",
              "      <td>22343</td>\n",
              "      <td>22343</td>\n",
              "      <td>19671</td>\n",
              "      <td>22343</td>\n",
              "      <td>22343</td>\n",
              "      <td>22336</td>\n",
              "      <td>22343</td>\n",
              "      <td>22343</td>\n",
              "      <td>22343</td>\n",
              "      <td>22343</td>\n",
              "      <td>22343</td>\n",
              "    </tr>\n",
              "    <tr>\n",
              "      <th>5</th>\n",
              "      <td>23093</td>\n",
              "      <td>23093</td>\n",
              "      <td>23093</td>\n",
              "      <td>20254</td>\n",
              "      <td>23093</td>\n",
              "      <td>23093</td>\n",
              "      <td>23082</td>\n",
              "      <td>23093</td>\n",
              "      <td>23093</td>\n",
              "      <td>23093</td>\n",
              "      <td>23093</td>\n",
              "      <td>23093</td>\n",
              "    </tr>\n",
              "    <tr>\n",
              "      <th>6</th>\n",
              "      <td>24065</td>\n",
              "      <td>24065</td>\n",
              "      <td>24065</td>\n",
              "      <td>21070</td>\n",
              "      <td>24065</td>\n",
              "      <td>24065</td>\n",
              "      <td>24058</td>\n",
              "      <td>24065</td>\n",
              "      <td>24065</td>\n",
              "      <td>24065</td>\n",
              "      <td>24065</td>\n",
              "      <td>24065</td>\n",
              "    </tr>\n",
              "    <tr>\n",
              "      <th>7</th>\n",
              "      <td>23856</td>\n",
              "      <td>23856</td>\n",
              "      <td>23856</td>\n",
              "      <td>20940</td>\n",
              "      <td>23856</td>\n",
              "      <td>23856</td>\n",
              "      <td>23850</td>\n",
              "      <td>23856</td>\n",
              "      <td>23856</td>\n",
              "      <td>23856</td>\n",
              "      <td>23856</td>\n",
              "      <td>23856</td>\n",
              "    </tr>\n",
              "    <tr>\n",
              "      <th>8</th>\n",
              "      <td>23657</td>\n",
              "      <td>23657</td>\n",
              "      <td>23657</td>\n",
              "      <td>20739</td>\n",
              "      <td>23657</td>\n",
              "      <td>23657</td>\n",
              "      <td>23646</td>\n",
              "      <td>23657</td>\n",
              "      <td>23657</td>\n",
              "      <td>23657</td>\n",
              "      <td>23657</td>\n",
              "      <td>23657</td>\n",
              "    </tr>\n",
              "    <tr>\n",
              "      <th>9</th>\n",
              "      <td>23001</td>\n",
              "      <td>23001</td>\n",
              "      <td>23001</td>\n",
              "      <td>20014</td>\n",
              "      <td>23001</td>\n",
              "      <td>23001</td>\n",
              "      <td>22993</td>\n",
              "      <td>23001</td>\n",
              "      <td>23001</td>\n",
              "      <td>23001</td>\n",
              "      <td>23001</td>\n",
              "      <td>23001</td>\n",
              "    </tr>\n",
              "    <tr>\n",
              "      <th>10</th>\n",
              "      <td>24113</td>\n",
              "      <td>24113</td>\n",
              "      <td>24113</td>\n",
              "      <td>20931</td>\n",
              "      <td>24113</td>\n",
              "      <td>24113</td>\n",
              "      <td>24109</td>\n",
              "      <td>24113</td>\n",
              "      <td>24113</td>\n",
              "      <td>24113</td>\n",
              "      <td>24113</td>\n",
              "      <td>24113</td>\n",
              "    </tr>\n",
              "    <tr>\n",
              "      <th>11</th>\n",
              "      <td>23639</td>\n",
              "      <td>23639</td>\n",
              "      <td>23639</td>\n",
              "      <td>20727</td>\n",
              "      <td>23639</td>\n",
              "      <td>23639</td>\n",
              "      <td>23629</td>\n",
              "      <td>23639</td>\n",
              "      <td>23639</td>\n",
              "      <td>23639</td>\n",
              "      <td>23639</td>\n",
              "      <td>23639</td>\n",
              "    </tr>\n",
              "    <tr>\n",
              "      <th>12</th>\n",
              "      <td>32366</td>\n",
              "      <td>32366</td>\n",
              "      <td>32366</td>\n",
              "      <td>28398</td>\n",
              "      <td>32366</td>\n",
              "      <td>32366</td>\n",
              "      <td>32352</td>\n",
              "      <td>32366</td>\n",
              "      <td>32366</td>\n",
              "      <td>32366</td>\n",
              "      <td>32366</td>\n",
              "      <td>32366</td>\n",
              "    </tr>\n",
              "  </tbody>\n",
              "</table>\n",
              "</div>"
            ],
            "text/plain": [
              "         lat    lng   desc    zip  title  ...   addr      e  Reason   Hour    Day\n",
              "Month                                     ...                                    \n",
              "1      24701  24701  24701  21877  24701  ...  24701  24701   24701  24701  24701\n",
              "2      21663  21663  21663  19161  21663  ...  21663  21663   21663  21663  21663\n",
              "3      22743  22743  22743  20160  22743  ...  22743  22743   22743  22743  22743\n",
              "4      22343  22343  22343  19671  22343  ...  22343  22343   22343  22343  22343\n",
              "5      23093  23093  23093  20254  23093  ...  23093  23093   23093  23093  23093\n",
              "6      24065  24065  24065  21070  24065  ...  24065  24065   24065  24065  24065\n",
              "7      23856  23856  23856  20940  23856  ...  23856  23856   23856  23856  23856\n",
              "8      23657  23657  23657  20739  23657  ...  23657  23657   23657  23657  23657\n",
              "9      23001  23001  23001  20014  23001  ...  23001  23001   23001  23001  23001\n",
              "10     24113  24113  24113  20931  24113  ...  24113  24113   24113  24113  24113\n",
              "11     23639  23639  23639  20727  23639  ...  23639  23639   23639  23639  23639\n",
              "12     32366  32366  32366  28398  32366  ...  32366  32366   32366  32366  32366\n",
              "\n",
              "[12 rows x 12 columns]"
            ]
          },
          "metadata": {},
          "execution_count": 83
        }
      ]
    },
    {
      "cell_type": "code",
      "metadata": {
        "colab": {
          "base_uri": "https://localhost:8080/",
          "height": 296
        },
        "id": "U0tYWuK_Z8od",
        "outputId": "be05c320-8bbc-445e-ff11-5e8efeb6743e"
      },
      "source": [
        "byMonth['lat'].plot()"
      ],
      "execution_count": null,
      "outputs": [
        {
          "output_type": "execute_result",
          "data": {
            "text/plain": [
              "<matplotlib.axes._subplots.AxesSubplot at 0x7f6fdfb79dd0>"
            ]
          },
          "metadata": {},
          "execution_count": 84
        },
        {
          "output_type": "display_data",
          "data": {
            "image/png": "[encoded data removed]",
            "text/plain": [
              "<Figure size 432x288 with 1 Axes>"
            ]
          },
          "metadata": {
            "needs_background": "light"
          }
        }
      ]
    },
    {
      "cell_type": "code",
      "metadata": {
        "id": "0pe-fJHMbS1W"
      },
      "source": [
        ""
      ],
      "execution_count": null,
      "outputs": []
    },
    {
      "cell_type": "markdown",
      "metadata": {
        "id": "14yazszybVO4"
      },
      "source": [
        "*This shows the data for all the months and you can see the trend more clearly.*"
      ]
    },
    {
      "cell_type": "markdown",
      "metadata": {
        "id": "d634odelb6Ou"
      },
      "source": [
        "**Using seaborn's lmplot() to create linear fit on the number of calls per month**"
      ]
    },
    {
      "cell_type": "code",
      "metadata": {
        "colab": {
          "base_uri": "https://localhost:8080/",
          "height": 386
        },
        "id": "GTUjQ0NLbftT",
        "outputId": "92362257-cabe-4bd2-fd7b-de97672b83ce"
      },
      "source": [
        "sns.lmplot(x=\"Month\",y=\"twp\",data=byMonth.reset_index())"
      ],
      "execution_count": null,
      "outputs": [
        {
          "output_type": "execute_result",
          "data": {
            "text/plain": [
              "<seaborn.axisgrid.FacetGrid at 0x7f6fdfae8090>"
            ]
          },
          "metadata": {},
          "execution_count": 85
        },
        {
          "output_type": "display_data",
          "data": {
            "image/png": "[encoded data removed]",
            "text/plain": [
              "<Figure size 360x360 with 1 Axes>"
            ]
          },
          "metadata": {
            "needs_background": "light"
          }
        }
      ]
    },
    {
      "cell_type": "markdown",
      "metadata": {
        "id": "Q2YfSx8yfMgd"
      },
      "source": [
        "**Creating a date column from the timeStamp column**"
      ]
    },
    {
      "cell_type": "code",
      "metadata": {
        "id": "E6AGDXGEen2-"
      },
      "source": [
        "df['Date'] = df['timeStamp'].apply(lambda timeStamp:timeStamp.date())"
      ],
      "execution_count": null,
      "outputs": []
    },
    {
      "cell_type": "code",
      "metadata": {
        "colab": {
          "base_uri": "https://localhost:8080/"
        },
        "id": "wgCh2vMDfh7S",
        "outputId": "3eb30587-fe49-455d-db80-c73f5b7f90ed"
      },
      "source": [
        "df['Date']"
      ],
      "execution_count": null,
      "outputs": [
        {
          "output_type": "execute_result",
          "data": {
            "text/plain": [
              "0         2015-12-10\n",
              "1         2015-12-10\n",
              "2         2015-12-10\n",
              "3         2015-12-10\n",
              "4         2015-12-10\n",
              "             ...    \n",
              "289235    2017-12-30\n",
              "289236    2017-12-30\n",
              "289237    2017-12-30\n",
              "289238    2017-12-30\n",
              "289239    2017-12-30\n",
              "Name: Date, Length: 289240, dtype: object"
            ]
          },
          "metadata": {},
          "execution_count": 89
        }
      ]
    },
    {
      "cell_type": "markdown",
      "metadata": {
        "id": "gB7zimZ8fxPn"
      },
      "source": [
        "**Now grouping df by Date column**"
      ]
    },
    {
      "cell_type": "code",
      "metadata": {
        "id": "-pzUn-mWfjP0"
      },
      "source": [
        "byDate = df.groupby('Date').count()"
      ],
      "execution_count": null,
      "outputs": []
    },
    {
      "cell_type": "code",
      "metadata": {
        "colab": {
          "base_uri": "https://localhost:8080/",
          "height": 173
        },
        "id": "aZYry92IgGAu",
        "outputId": "71cf12b0-7fd3-4175-f151-8a6e91536ea4"
      },
      "source": [
        "byDate.head(3)"
      ],
      "execution_count": null,
      "outputs": [
        {
          "output_type": "execute_result",
          "data": {
            "text/html": [
              "<div>\n",
              "<style scoped>\n",
              "    .dataframe tbody tr th:only-of-type {\n",
              "        vertical-align: middle;\n",
              "    }\n",
              "\n",
              "    .dataframe tbody tr th {\n",
              "        vertical-align: top;\n",
              "    }\n",
              "\n",
              "    .dataframe thead th {\n",
              "        text-align: right;\n",
              "    }\n",
              "</style>\n",
              "<table border=\"1\" class=\"dataframe\">\n",
              "  <thead>\n",
              "    <tr style=\"text-align: right;\">\n",
              "      <th></th>\n",
              "      <th>lat</th>\n",
              "      <th>lng</th>\n",
              "      <th>desc</th>\n",
              "      <th>zip</th>\n",
              "      <th>title</th>\n",
              "      <th>timeStamp</th>\n",
              "      <th>twp</th>\n",
              "      <th>addr</th>\n",
              "      <th>e</th>\n",
              "      <th>Reason</th>\n",
              "      <th>Hour</th>\n",
              "      <th>Month</th>\n",
              "      <th>Day</th>\n",
              "      <th>date</th>\n",
              "    </tr>\n",
              "    <tr>\n",
              "      <th>Date</th>\n",
              "      <th></th>\n",
              "      <th></th>\n",
              "      <th></th>\n",
              "      <th></th>\n",
              "      <th></th>\n",
              "      <th></th>\n",
              "      <th></th>\n",
              "      <th></th>\n",
              "      <th></th>\n",
              "      <th></th>\n",
              "      <th></th>\n",
              "      <th></th>\n",
              "      <th></th>\n",
              "      <th></th>\n",
              "    </tr>\n",
              "  </thead>\n",
              "  <tbody>\n",
              "    <tr>\n",
              "      <th>2015-12-10</th>\n",
              "      <td>114</td>\n",
              "      <td>114</td>\n",
              "      <td>114</td>\n",
              "      <td>100</td>\n",
              "      <td>114</td>\n",
              "      <td>114</td>\n",
              "      <td>114</td>\n",
              "      <td>114</td>\n",
              "      <td>114</td>\n",
              "      <td>114</td>\n",
              "      <td>114</td>\n",
              "      <td>114</td>\n",
              "      <td>114</td>\n",
              "      <td>114</td>\n",
              "    </tr>\n",
              "    <tr>\n",
              "      <th>2015-12-11</th>\n",
              "      <td>391</td>\n",
              "      <td>391</td>\n",
              "      <td>391</td>\n",
              "      <td>332</td>\n",
              "      <td>391</td>\n",
              "      <td>391</td>\n",
              "      <td>391</td>\n",
              "      <td>391</td>\n",
              "      <td>391</td>\n",
              "      <td>391</td>\n",
              "      <td>391</td>\n",
              "      <td>391</td>\n",
              "      <td>391</td>\n",
              "      <td>391</td>\n",
              "    </tr>\n",
              "    <tr>\n",
              "      <th>2015-12-12</th>\n",
              "      <td>402</td>\n",
              "      <td>402</td>\n",
              "      <td>402</td>\n",
              "      <td>334</td>\n",
              "      <td>402</td>\n",
              "      <td>402</td>\n",
              "      <td>402</td>\n",
              "      <td>402</td>\n",
              "      <td>402</td>\n",
              "      <td>402</td>\n",
              "      <td>402</td>\n",
              "      <td>402</td>\n",
              "      <td>402</td>\n",
              "      <td>402</td>\n",
              "    </tr>\n",
              "  </tbody>\n",
              "</table>\n",
              "</div>"
            ],
            "text/plain": [
              "            lat  lng  desc  zip  title  ...  Reason  Hour  Month  Day  date\n",
              "Date                                    ...                                \n",
              "2015-12-10  114  114   114  100    114  ...     114   114    114  114   114\n",
              "2015-12-11  391  391   391  332    391  ...     391   391    391  391   391\n",
              "2015-12-12  402  402   402  334    402  ...     402   402    402  402   402\n",
              "\n",
              "[3 rows x 14 columns]"
            ]
          },
          "metadata": {},
          "execution_count": 94
        }
      ]
    },
    {
      "cell_type": "code",
      "metadata": {
        "colab": {
          "base_uri": "https://localhost:8080/",
          "height": 297
        },
        "id": "NeuTi4wNgHQf",
        "outputId": "1760d56d-c59b-42ef-cfb1-518354e0194e"
      },
      "source": [
        "byDate['lat'].plot()\n",
        "plt.tight_layout()"
      ],
      "execution_count": null,
      "outputs": [
        {
          "output_type": "display_data",
          "data": {
            "image/png": "[encoded data removed]",
            "text/plain": [
              "<Figure size 432x288 with 1 Axes>"
            ]
          },
          "metadata": {
            "needs_background": "light"
          }
        }
      ]
    },
    {
      "cell_type": "markdown",
      "metadata": {
        "id": "E232Hlbvi_nl"
      },
      "source": [
        "**Recreating the same plot but create 3 seperate plots with each plot representing a reason for the 911 calls**"
      ]
    },
    {
      "cell_type": "code",
      "metadata": {
        "id": "P-JnMxSzgmOU",
        "colab": {
          "base_uri": "https://localhost:8080/",
          "height": 297
        },
        "outputId": "dc4c933c-bff6-499a-c688-9755638b58b5"
      },
      "source": [
        "df[df['Reason'] == 'Traffic'].groupby('Date').count()['lat'].plot()\n",
        "plt.title('Traffic')\n",
        "plt.tight_layout()"
      ],
      "execution_count": null,
      "outputs": [
        {
          "output_type": "display_data",
          "data": {
            "image/png": "[encoded data removed]",
            "text/plain": [
              "<Figure size 432x288 with 1 Axes>"
            ]
          },
          "metadata": {
            "needs_background": "light"
          }
        }
      ]
    },
    {
      "cell_type": "code",
      "metadata": {
        "colab": {
          "base_uri": "https://localhost:8080/",
          "height": 297
        },
        "id": "VP2pxi1PkBvw",
        "outputId": "34f062cc-5810-4d0a-fd38-f1cee2738eff"
      },
      "source": [
        "df[df['Reason'] == 'Fire'].groupby('Date').count()['lat'].plot()\n",
        "plt.title('Fire')\n",
        "plt.tight_layout()"
      ],
      "execution_count": null,
      "outputs": [
        {
          "output_type": "display_data",
          "data": {
            "image/png": "[encoded data removed]",
            "text/plain": [
              "<Figure size 432x288 with 1 Axes>"
            ]
          },
          "metadata": {
            "needs_background": "light"
          }
        }
      ]
    },
    {
      "cell_type": "code",
      "metadata": {
        "colab": {
          "base_uri": "https://localhost:8080/",
          "height": 297
        },
        "id": "csSVZbdJkWIL",
        "outputId": "8f3d94bf-0838-44fa-d93c-e0cd888e1d7c"
      },
      "source": [
        "df[df['Reason'] == 'EMS'].groupby('Date').count()['lat'].plot()\n",
        "plt.title('EMS')\n",
        "plt.tight_layout()"
      ],
      "execution_count": null,
      "outputs": [
        {
          "output_type": "display_data",
          "data": {
            "image/png": "[encoded data removed]",
            "text/plain": [
              "<Figure size 432x288 with 1 Axes>"
            ]
          },
          "metadata": {
            "needs_background": "light"
          }
        }
      ]
    },
    {
      "cell_type": "code",
      "metadata": {
        "id": "y7Knwf6-lI1Z"
      },
      "source": [
        "dayHour = df.groupby(by=['Day','Hour']).count()['Reason'].unstack()"
      ],
      "execution_count": null,
      "outputs": []
    },
    {
      "cell_type": "markdown",
      "metadata": {
        "id": "-Zn7cvEXlloX"
      },
      "source": [
        "**Creating a heatmap for dayHour dataframe**"
      ]
    },
    {
      "cell_type": "code",
      "metadata": {
        "colab": {
          "base_uri": "https://localhost:8080/",
          "height": 731
        },
        "id": "gI_QBMJGlP0m",
        "outputId": "9275261d-475c-43fd-b688-f23be44578c9"
      },
      "source": [
        "plt.figure(figsize=(18,12))\n",
        "sns.heatmap(dayHour)"
      ],
      "execution_count": null,
      "outputs": [
        {
          "output_type": "execute_result",
          "data": {
            "text/plain": [
              "<matplotlib.axes._subplots.AxesSubplot at 0x7f6fdf95ad10>"
            ]
          },
          "metadata": {},
          "execution_count": 115
        },
        {
          "output_type": "display_data",
          "data": {
            "image/png": "[encoded data removed]",
            "text/plain": [
              "<Figure size 1296x864 with 2 Axes>"
            ]
          },
          "metadata": {
            "needs_background": "light"
          }
        }
      ]
    },
    {
      "cell_type": "markdown",
      "metadata": {
        "id": "czk3Y0uWmTMb"
      },
      "source": [
        "**Creating a clustermap for the same**\n"
      ]
    },
    {
      "cell_type": "code",
      "metadata": {
        "colab": {
          "base_uri": "https://localhost:8080/",
          "height": 763
        },
        "id": "O5-idT-Vlu9c",
        "outputId": "d262530d-a3c0-4db4-a630-a7a4bb5f9f33"
      },
      "source": [
        "plt.figure(figsize=(18,12))\n",
        "sns.clustermap(dayHour)"
      ],
      "execution_count": null,
      "outputs": [
        {
          "output_type": "execute_result",
          "data": {
            "text/plain": [
              "<seaborn.matrix.ClusterGrid at 0x7f6fdf4ed8d0>"
            ]
          },
          "metadata": {},
          "execution_count": 117
        },
        {
          "output_type": "display_data",
          "data": {
            "text/plain": [
              "<Figure size 1296x864 with 0 Axes>"
            ]
          },
          "metadata": {}
        },
        {
          "output_type": "display_data",
          "data": {
            "image/png": "[encoded data removed]",
            "text/plain": [
              "<Figure size 720x720 with 4 Axes>"
            ]
          },
          "metadata": {
            "needs_background": "light"
          }
        }
      ]
    },
    {
      "cell_type": "markdown",
      "metadata": {
        "id": "C3R2lOB2nHSe"
      },
      "source": [
        "**Creating similiar plots for date and month**"
      ]
    },
    {
      "cell_type": "code",
      "metadata": {
        "id": "SfkMPJcCmf3A"
      },
      "source": [
        "dayMonth = df.groupby(by=['Day','Month']).count()['Reason'].unstack()"
      ],
      "execution_count": null,
      "outputs": []
    },
    {
      "cell_type": "code",
      "metadata": {
        "colab": {
          "base_uri": "https://localhost:8080/",
          "height": 731
        },
        "id": "E3qTShhvndNZ",
        "outputId": "56c3769e-32c1-42d0-f929-932900d723df"
      },
      "source": [
        "plt.figure(figsize=(18,12))\n",
        "sns.heatmap(dayMonth,cmap=\"viridis\")"
      ],
      "execution_count": null,
      "outputs": [
        {
          "output_type": "execute_result",
          "data": {
            "text/plain": [
              "<matplotlib.axes._subplots.AxesSubplot at 0x7f6fd6acc510>"
            ]
          },
          "metadata": {},
          "execution_count": 121
        },
        {
          "output_type": "display_data",
          "data": {
            "image/png": "[encoded data removed]",
            "text/plain": [
              "<Figure size 1296x864 with 2 Axes>"
            ]
          },
          "metadata": {
            "needs_background": "light"
          }
        }
      ]
    },
    {
      "cell_type": "code",
      "metadata": {
        "colab": {
          "base_uri": "https://localhost:8080/",
          "height": 763
        },
        "id": "IdOQCYJenszB",
        "outputId": "172858a2-a6fb-46cf-fba3-2ba6ab9c47ce"
      },
      "source": [
        "plt.figure(figsize=(18,12))\n",
        "sns.clustermap(dayMonth,cmap=\"viridis\")"
      ],
      "execution_count": null,
      "outputs": [
        {
          "output_type": "execute_result",
          "data": {
            "text/plain": [
              "<seaborn.matrix.ClusterGrid at 0x7f6fd6a22110>"
            ]
          },
          "metadata": {},
          "execution_count": 122
        },
        {
          "output_type": "display_data",
          "data": {
            "text/plain": [
              "<Figure size 1296x864 with 0 Axes>"
            ]
          },
          "metadata": {}
        },
        {
          "output_type": "display_data",
          "data": {
            "image/png": "[encoded data removed]",
            "text/plain": [
              "<Figure size 720x720 with 4 Axes>"
            ]
          },
          "metadata": {
            "needs_background": "light"
          }
        }
      ]
    },
    {
      "cell_type": "markdown",
      "metadata": {
        "id": "lajd9xsQnzYZ"
      },
      "source": [
        "**The end of project**"
      ]
    }
  ]
}